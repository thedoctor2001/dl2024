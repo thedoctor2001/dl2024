{
  "cells": [
    {
      "cell_type": "code",
      "execution_count": 1,
      "metadata": {
        "id": "Kq1ay-ZgcPNU"
      },
      "outputs": [],
      "source": [
        "import tensorflow as tf\n",
        "from tensorflow.keras.models import Sequential\n",
        "from tensorflow.keras.layers import Conv2D, MaxPooling2D, Flatten, Dense, Dropout\n",
        "\n",
        "def build_vgg19(input_shape=(32, 32, 3)):\n",
        "    model = Sequential([\n",
        "\n",
        "        Conv2D(64, (3, 3), padding='same', activation='relu', input_shape=input_shape),\n",
        "        Conv2D(64, (3, 3), padding='same', activation='relu'),\n",
        "        MaxPooling2D((2, 2), strides=(2, 2)),\n",
        "\n",
        "        Conv2D(128, (3, 3), padding='same', activation='relu'),\n",
        "        Conv2D(128, (3, 3), padding='same', activation='relu'),\n",
        "        MaxPooling2D((2, 2), strides=(2, 2)),\n",
        "\n",
        "        Conv2D(256, (3, 3), padding='same', activation='relu'),\n",
        "        Conv2D(256, (3, 3), padding='same', activation='relu'),\n",
        "        Conv2D(256, (3, 3), padding='same', activation='relu'),\n",
        "        Conv2D(256, (3, 3), padding='same', activation='relu'),\n",
        "        MaxPooling2D((2, 2), strides=(2, 2)),\n",
        "\n",
        "        Conv2D(512, (3, 3), padding='same', activation='relu'),\n",
        "        Conv2D(512, (3, 3), padding='same', activation='relu'),\n",
        "        Conv2D(512, (3, 3), padding='same', activation='relu'),\n",
        "        Conv2D(512, (3, 3), padding='same', activation='relu'),\n",
        "        MaxPooling2D((2, 2), strides=(2, 2)),\n",
        "\n",
        "        Conv2D(512, (3, 3), padding='same', activation='relu'),\n",
        "        Conv2D(512, (3, 3), padding='same', activation='relu'),\n",
        "        Conv2D(512, (3, 3), padding='same', activation='relu'),\n",
        "        Conv2D(512, (3, 3), padding='same', activation='relu'),\n",
        "        MaxPooling2D((2, 2), strides=(2, 2)),\n",
        "\n",
        "        Flatten(),\n",
        "        Dense(4096, activation='relu'),\n",
        "        Dropout(0.5),\n",
        "        Dense(4096, activation='relu'),\n",
        "        Dropout(0.5),\n",
        "        Dense(10, activation='softmax')\n",
        "    ])\n",
        "    return model\n"
      ]
    },
    {
      "cell_type": "code",
      "execution_count": 2,
      "metadata": {
        "colab": {
          "base_uri": "https://localhost:8080/"
        },
        "id": "N4lH5k6kcVXz",
        "outputId": "ade3fcef-153f-435f-ad60-5707d071c642"
      },
      "outputs": [
        {
          "output_type": "stream",
          "name": "stdout",
          "text": [
            "Downloading data from https://www.cs.toronto.edu/~kriz/cifar-10-python.tar.gz\n",
            "170498071/170498071 [==============================] - 4s 0us/step\n"
          ]
        }
      ],
      "source": [
        "from tensorflow.keras.datasets import cifar10\n",
        "\n",
        "(x_train, y_train), (x_test, y_test) = cifar10.load_data()\n"
      ]
    },
    {
      "cell_type": "code",
      "execution_count": 3,
      "metadata": {
        "id": "mZTSAO_CcZj4"
      },
      "outputs": [],
      "source": [
        "x_train = x_train.astype('float32') / 255\n",
        "x_test = x_test.astype('float32') / 255\n",
        "\n",
        "y_train = tf.keras.utils.to_categorical(y_train, 10)\n",
        "y_test = tf.keras.utils.to_categorical(y_test, 10)"
      ]
    },
    {
      "cell_type": "code",
      "execution_count": null,
      "metadata": {
        "colab": {
          "background_save": true,
          "base_uri": "https://localhost:8080/"
        },
        "id": "vPBv-Ya-cgnI",
        "outputId": "e1126446-7828-4b37-ba32-66f83a9c0693"
      },
      "outputs": [
        {
          "output_type": "stream",
          "name": "stdout",
          "text": [
            "Epoch 1/50\n",
            " 193/1563 [==>...........................] - ETA: 1:55:36 - loss: 2.3053 - accuracy: 0.0999"
          ]
        }
      ],
      "source": [
        "model = build_vgg19()\n",
        "model.compile(optimizer='adam', loss='categorical_crossentropy', metrics=['accuracy'])\n",
        "\n",
        "history = model.fit(x_train, y_train, batch_size=32, epochs=50, validation_data=(x_test, y_test))\n"
      ]
    }
  ],
  "metadata": {
    "colab": {
      "provenance": []
    },
    "kernelspec": {
      "display_name": "Python 3",
      "name": "python3"
    },
    "language_info": {
      "name": "python"
    }
  },
  "nbformat": 4,
  "nbformat_minor": 0
}